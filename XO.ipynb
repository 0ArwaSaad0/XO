{
 "cells": [
  {
   "cell_type": "markdown",
   "id": "3e98177a",
   "metadata": {},
   "source": [
    "# XO game"
   ]
  },
  {
   "cell_type": "markdown",
   "id": "91cba885",
   "metadata": {},
   "source": [
    "# creat Board"
   ]
  },
  {
   "cell_type": "code",
   "execution_count": 1,
   "id": "30f74fcc",
   "metadata": {},
   "outputs": [],
   "source": [
    "board = [\"-\",\"-\",\"-\",\n",
    "         \"-\",\"-\",\"-\",\n",
    "         \"-\",\"-\",\"-\"]\n",
    "\n",
    "def create() :\n",
    "        print(board[0] + \" | \" + board[1] + \" | \" + board[2] + \"      \" + \"1|2|3\")\n",
    "        print(board[3] + \" | \" + board[4] + \" | \" + board[5] + \"      \" + \"4|5|6\")\n",
    "        print(board[6] + \" | \" + board[7] + \" | \" + board[8] + \"      \" + \"7|8|9\")\n"
   ]
  },
  {
   "cell_type": "code",
   "execution_count": 2,
   "id": "4c2c7c17",
   "metadata": {},
   "outputs": [],
   "source": [
    "def player():\n",
    "    print(\"select player x or o\")\n",
    "    p1=input(\"Player1: \")\n",
    "    p2=\" \"\n",
    "    if p1=='x':\n",
    "        p2='o'\n",
    "        print(\"player2 = \" + p2)\n",
    "    elif p1=='o':\n",
    "        p2='x'\n",
    "        print(\"player2 = \" + p2)\n",
    "    else:\n",
    "        print(\"enter valid input x or o\")"
   ]
  },
  {
   "cell_type": "markdown",
   "id": "5cdce7c5",
   "metadata": {},
   "source": [
    "# check plaayer position"
   ]
  },
  {
   "cell_type": "code",
   "execution_count": 3,
   "id": "79cd8227",
   "metadata": {},
   "outputs": [],
   "source": [
    "current_player='x'\n",
    "def player_posiiton():\n",
    "        global current_player\n",
    "        print(\"Current Player: \" + current_player)\n",
    "        position = input(\"Choose position from 1 - 9: \")\n",
    "\n",
    "        # Loop through the program untill there is a win or tie\n",
    "        valid = False\n",
    "        while not valid:\n",
    "            while position not in [\"1\", \"2\", \"3\", \"4\", \"5\", \"6\", \"7\", \"8\", \"9\"]:\n",
    "                position = input(\"Choose correct position from 1 - 9: \")\n",
    "            position = int(position) - 1\n",
    "\n",
    "            if board[position] == \"-\":\n",
    "                valid = True\n",
    "            else:\n",
    "                print(\"Position already selected, choose another position!\")\n",
    "        board[position] = current_player\n",
    "        create()\n",
    "            \n",
    "            "
   ]
  },
  {
   "cell_type": "code",
   "execution_count": 4,
   "id": "e6de4fa8",
   "metadata": {},
   "outputs": [],
   "source": [
    "game_on=True\n",
    "def play_game():\n",
    "    create()\n",
    "    player()\n",
    "    \n",
    "  #loop  to flip players untill there is a win\n",
    "    while game_on:\n",
    "        player_posiiton()\n",
    "        \n",
    "        #Check winner\n",
    "        def check_winner():\n",
    "            global game_on\n",
    "            #Check rows if there is a win \n",
    "            if board[0] == board[1] == board[2] != \"-\":\n",
    "                game_on = False\n",
    "                print(\"Congratulations \" + board[0]+\" you WON!\")\n",
    "            elif board[3] == board[4] == board[5] != \"-\":\n",
    "                game_on = False\n",
    "                print(\"Congratulations \" + board[3]+\" you WON!\")\n",
    "            elif board[6] == board[7] == board[8] != \"-\":\n",
    "                game_on = False\n",
    "                print(\"Congratulations \" + board[6]+\" you WON!\")\n",
    "             #Check columns if there is a win\n",
    "            elif board[0] == board[3] == board[6] != \"-\":\n",
    "                game_on = False\n",
    "                print(\"Congratulations \" + board[0]+\" you WON!\")\n",
    "            elif board[1] == board[4] == board[7] != \"-\":\n",
    "                game_on = False\n",
    "                print(\"Congratulations \" + board[1]+\" you WON!\")\n",
    "            elif board[2] == board[5] == board[8] != \"-\":\n",
    "                game_on = False\n",
    "                print(\"Congratulations \" + board[2]+\" you WON!\")\n",
    "             #Check diagonals if there is a win\n",
    "            elif board[0] == board[4] == board[8] != \"-\":\n",
    "                game_on = False\n",
    "                print(\"Congratulations \" + board[0]+\" you WON!\")\n",
    "            elif board[2] == board[4] == board[6] != \"-\":\n",
    "                game_on = False\n",
    "                print(\"Congratulations \"+ board[6]+\" you WON!\")\n",
    "             #If none of the above, then, it's a tie\n",
    "            elif \"-\" not in board:\n",
    "                game_on = False\n",
    "                print(\"It's a Tie\")\n",
    "                exit()\n",
    "\n",
    "        #Function to flip player\n",
    "        def flip_player():\n",
    "            global current_player\n",
    "            if current_player == \"x\":\n",
    "                 current_player = \"o\"\n",
    "            else:\n",
    "                 current_player = \"x\"\n",
    "        flip_player()\n",
    "        check_winner()"
   ]
  },
  {
   "cell_type": "code",
   "execution_count": 5,
   "id": "3b72b683",
   "metadata": {},
   "outputs": [
    {
     "name": "stdout",
     "output_type": "stream",
     "text": [
      "- | - | -      1|2|3\n",
      "- | - | -      4|5|6\n",
      "- | - | -      7|8|9\n",
      "select player x or o\n",
      "Player1: x\n",
      "player2 = o\n",
      "Current Player: x\n",
      "Choose position from 1 - 9: 2\n",
      "- | x | -      1|2|3\n",
      "- | - | -      4|5|6\n",
      "- | - | -      7|8|9\n",
      "Current Player: o\n",
      "Choose position from 1 - 9: 1\n",
      "o | x | -      1|2|3\n",
      "- | - | -      4|5|6\n",
      "- | - | -      7|8|9\n",
      "Current Player: x\n",
      "Choose position from 1 - 9: 3\n",
      "o | x | x      1|2|3\n",
      "- | - | -      4|5|6\n",
      "- | - | -      7|8|9\n",
      "Current Player: o\n",
      "Choose position from 1 - 9: 7\n",
      "o | x | x      1|2|3\n",
      "- | - | -      4|5|6\n",
      "o | - | -      7|8|9\n",
      "Current Player: x\n",
      "Choose position from 1 - 9: 4\n",
      "o | x | x      1|2|3\n",
      "x | - | -      4|5|6\n",
      "o | - | -      7|8|9\n",
      "Current Player: o\n",
      "Choose position from 1 - 9: 8\n",
      "o | x | x      1|2|3\n",
      "x | - | -      4|5|6\n",
      "o | o | -      7|8|9\n",
      "Current Player: x\n",
      "Choose position from 1 - 9: 5\n",
      "o | x | x      1|2|3\n",
      "x | x | -      4|5|6\n",
      "o | o | -      7|8|9\n",
      "Current Player: o\n",
      "Choose position from 1 - 9: 5\n",
      "Position already selected, choose another position!\n",
      "Choose correct position from 1 - 9: 6\n",
      "o | x | x      1|2|3\n",
      "x | x | o      4|5|6\n",
      "o | o | -      7|8|9\n",
      "Current Player: x\n",
      "Choose position from 1 - 9: 9\n",
      "o | x | x      1|2|3\n",
      "x | x | o      4|5|6\n",
      "o | o | x      7|8|9\n",
      "It's a Tie\n"
     ]
    }
   ],
   "source": [
    "play_game()"
   ]
  },
  {
   "cell_type": "code",
   "execution_count": null,
   "id": "45adbc49",
   "metadata": {},
   "outputs": [],
   "source": []
  }
 ],
 "metadata": {
  "kernelspec": {
   "display_name": "Python 3 (ipykernel)",
   "language": "python",
   "name": "python3"
  },
  "language_info": {
   "codemirror_mode": {
    "name": "ipython",
    "version": 3
   },
   "file_extension": ".py",
   "mimetype": "text/x-python",
   "name": "python",
   "nbconvert_exporter": "python",
   "pygments_lexer": "ipython3",
   "version": "3.8.13"
  }
 },
 "nbformat": 4,
 "nbformat_minor": 5
}
